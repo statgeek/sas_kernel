{
 "cells": [
  {
   "cell_type": "markdown",
   "metadata": {},
   "source": [
    "#This demo workbook is intended to verify SAS University Edition is set up correctly and to walk you through some very basic tasks.\n",
    "-------------\n",
    "\n",
    "##Note that University Edition is set up in a Virtual Machine (VM). This means that although it is running on your desktop, it doesn't actually see your desktop, so it doesn't have access to your local folders and drives. To get around this issue you need to explicitly set up links from the VM to your desktop through shared folders. Then to access these shared folders you use the following notation:\n",
    "/folders/myfolders/...rest of path\n",
    "\n",
    "Note that you're using forward slashes (/) instead of backslashes (\\).  \n",
    "\n",
    "If you want to set up paths to other folders you can do that as well, but then you reference them as\n",
    "\n",
    "/folders/myshortcuts/...remainder of path\n",
    "\n",
    "Because the VM is a Unix Machine (Redhat) it's also set up as case sensitive, so your folders/paths need to match exactly. \n",
    "\n",
    "-------------------"
   ]
  },
  {
   "cell_type": "markdown",
   "metadata": {},
   "source": [
    "##Check if shared folders is set up correctly by export a dataset to a CSV file in the shared folder.\n",
    "-------------"
   ]
  },
  {
   "cell_type": "code",
   "execution_count": 2,
   "metadata": {
    "collapsed": false
   },
   "outputs": [
    {
     "data": {
      "text/html": [
       "<!DOCTYPE html PUBLIC \"-//W3C//DTD HTML 4.01//EN\"\n",
       "   \"http://www.w3.org/TR/html4/strict.dtd\">\n",
       "\n",
       "<html>\n",
       "<head>\n",
       "  <title></title>\n",
       "  <meta http-equiv=\"content-type\" content=\"text/html; charset=None\">\n",
       "  <style type=\"text/css\">\n",
       "td.linenos { background-color: #f0f0f0; padding-right: 10px; }\n",
       "span.lineno { background-color: #f0f0f0; padding: 0 5px 0 5px; }\n",
       "pre { line-height: 125%; }\n",
       "body .hll { background-color: #ffffcc }\n",
       "body  { background: #ffffff; }\n",
       "body .c { color: #0000FF } /* Comment */\n",
       "body .k { color: #ff0000; font-weight: bold } /* Keyword */\n",
       "body .n { color: #008000 } /* Name */\n",
       "body .ch { color: #0000FF } /* Comment.Hashbang */\n",
       "body .cm { color: #0000FF } /* Comment.Multiline */\n",
       "body .cp { color: #0000FF } /* Comment.Preproc */\n",
       "body .cpf { color: #0000FF } /* Comment.PreprocFile */\n",
       "body .c1 { color: #0000FF } /* Comment.Single */\n",
       "body .cs { color: #0000FF } /* Comment.Special */\n",
       "body .kc { color: #ff0000; font-weight: bold } /* Keyword.Constant */\n",
       "body .kd { color: #ff0000; font-weight: bold } /* Keyword.Declaration */\n",
       "body .kn { color: #ff0000; font-weight: bold } /* Keyword.Namespace */\n",
       "body .kp { color: #ff0000; font-weight: bold } /* Keyword.Pseudo */\n",
       "body .kr { color: #ff0000; font-weight: bold } /* Keyword.Reserved */\n",
       "body .kt { color: #ff0000; font-weight: bold } /* Keyword.Type */\n",
       "body .s { color: #111111 } /* Literal.String */\n",
       "body .na { color: #008000 } /* Name.Attribute */\n",
       "body .nb { color: #008000 } /* Name.Builtin */\n",
       "body .nc { color: #008000 } /* Name.Class */\n",
       "body .no { color: #008000 } /* Name.Constant */\n",
       "body .nd { color: #008000 } /* Name.Decorator */\n",
       "body .ni { color: #008000 } /* Name.Entity */\n",
       "body .ne { color: #008000 } /* Name.Exception */\n",
       "body .nf { color: #008000 } /* Name.Function */\n",
       "body .nl { color: #008000 } /* Name.Label */\n",
       "body .nn { color: #008000 } /* Name.Namespace */\n",
       "body .nx { color: #008000 } /* Name.Other */\n",
       "body .py { color: #008000 } /* Name.Property */\n",
       "body .nt { color: #008000 } /* Name.Tag */\n",
       "body .nv { color: #008000 } /* Name.Variable */\n",
       "body .sb { color: #111111 } /* Literal.String.Backtick */\n",
       "body .sc { color: #111111 } /* Literal.String.Char */\n",
       "body .sd { color: #111111 } /* Literal.String.Doc */\n",
       "body .s2 { color: #111111 } /* Literal.String.Double */\n",
       "body .se { color: #111111 } /* Literal.String.Escape */\n",
       "body .sh { color: #111111 } /* Literal.String.Heredoc */\n",
       "body .si { color: #111111 } /* Literal.String.Interpol */\n",
       "body .sx { color: #111111 } /* Literal.String.Other */\n",
       "body .sr { color: #111111 } /* Literal.String.Regex */\n",
       "body .s1 { color: #111111 } /* Literal.String.Single */\n",
       "body .ss { color: #111111 } /* Literal.String.Symbol */\n",
       "body .bp { color: #008000 } /* Name.Builtin.Pseudo */\n",
       "body .vc { color: #008000 } /* Name.Variable.Class */\n",
       "body .vg { color: #008000 } /* Name.Variable.Global */\n",
       "body .vi { color: #008000 } /* Name.Variable.Instance */\n",
       "\n",
       "  </style>\n",
       "</head>\n",
       "<body>\n",
       "<h2></h2>\n",
       "\n",
       "<div class=\"highlight\"><pre><span></span><span class=\"s\">19   ods listing close;ods html5 file=stdout options(bitmap_mode=&#39;inline&#39;) device=png; ods graphics on / outputfmt=png;</span><br><span class=\"cm\">NOTE: Writing HTML5 Body file: STDOUT</span><br><span class=\"s\">20   </span><br><span class=\"s\">21   proc export data=sashelp.class outfile=&#39;/folders/myfolders/Class.csv&#39; DBMS=CSV replace;</span><br><span class=\"s\">22   run;</span><br><span class=\"s\">23    /**********************************************************************</span><br><span class=\"s\">24    *   PRODUCT:   SAS</span><br><span class=\"s\">25    *   VERSION:   9.4</span><br><span class=\"s\">26    *   CREATOR:   External File Interface</span><br><span class=\"s\">27    *   DATE:      20AUG16</span><br><span class=\"s\">28    *   DESC:      Generated SAS Datastep Code</span><br><span class=\"s\">29    *   TEMPLATE SOURCE:  (None Specified.)</span><br><span class=\"s\">30    ***********************************************************************/</span><br><span class=\"s\">31       data _null_;</span><br><span class=\"s\">32       %let _EFIERR_ = 0; /* set the ERROR detection macro variable */</span><br><span class=\"s\">33       %let _EFIREC_ = 0;     /* clear export record count macro variable */</span><br><span class=\"s\">34       file &#39;/folders/myfolders/Class.csv&#39; delimiter=&#39;,&#39; DSD DROPOVER lrecl=32767;</span><br><span class=\"s\">35       if _n_ = 1 then        /* write column names or labels */</span><br><span class=\"s\">36        do;</span><br><span class=\"s\">37          put</span><br><span class=\"s\">38             &quot;Name&quot;</span><br><span class=\"s\">39          &#39;,&#39;</span><br><span class=\"s\">40             &quot;Sex&quot;</span><br><span class=\"s\">41          &#39;,&#39;</span><br><span class=\"s\">42             &quot;Age&quot;</span><br><span class=\"s\">43          &#39;,&#39;</span><br><span class=\"s\">44             &quot;Height&quot;</span><br><span class=\"s\">45          &#39;,&#39;</span><br><span class=\"s\">46             &quot;Weight&quot;</span><br><span class=\"s\">47          ;</span><br><span class=\"s\">48        end;</span><br><span class=\"s\">49      set  SASHELP.CLASS   end=EFIEOD;</span><br><span class=\"s\">50          format Name $8. ;</span><br><span class=\"s\">51          format Sex $1. ;</span><br><span class=\"s\">52          format Age best12. ;</span><br><span class=\"s\">53          format Height best12. ;</span><br><span class=\"s\">54          format Weight best12. ;</span><br><span class=\"s\">55        do;</span><br><span class=\"s\">56          EFIOUT + 1;</span><br><span class=\"s\">57          put Name $ @;</span><br><span class=\"s\">58          put Sex $ @;</span><br><span class=\"s\">59          put Age @;</span><br><span class=\"s\">60          put Height @;</span><br><span class=\"s\">61          put Weight ;</span><br><span class=\"s\">62          ;</span><br><span class=\"s\">63        end;</span><br><span class=\"s\">64       if _ERROR_ then call symputx(&#39;_EFIERR_&#39;,1);  /* set ERROR detection macro variable */</span><br><span class=\"s\">65       if EFIEOD then call symputx(&#39;_EFIREC_&#39;,EFIOUT);</span><br><span class=\"s\">66       run;</span><br><span class=\"cm\">NOTE: The file &#39;/folders/myfolders/Class.csv&#39; is:</span><br><span class=\"cm\">      Filename=/folders/myfolders/Class.csv,</span><br><span class=\"cm\">      Owner Name=UNKNOWN,Group Name=games,</span><br><span class=\"cm\">      Access Permission=-rw-r--r--,</span><br><span class=\"cm\">      Last Modified=20Aug2016:22:27:15</span><br><br><span class=\"cm\">NOTE: 20 records were written to the file &#39;/folders/myfolders/Class.csv&#39;.</span><br><span class=\"cm\">      The minimum record length was 17.</span><br><span class=\"cm\">      The maximum record length was 26.</span><br><span class=\"cm\">NOTE: There were 19 observations read from the data set SASHELP.CLASS.</span><br><span class=\"cm\">NOTE: DATA statement used (Total process time):</span><br><span class=\"cm\">      real time           0.02 seconds</span><br><span class=\"cm\">      cpu time            0.01 seconds</span><br><span class=\"cm\">      </span><br><span class=\"s\">19 records created in /folders/myfolders/Class.csv from SASHELP.CLASS.</span><br><span class=\"s\">  </span><br><span class=\"s\">  </span><br><span class=\"cm\">NOTE: &quot;/folders/myfolders/Class.csv&quot; file was successfully created.</span><br><span class=\"cm\">NOTE: PROCEDURE EXPORT used (Total process time):</span><br><span class=\"cm\">      real time           0.08 seconds</span><br><span class=\"cm\">      cpu time            0.08 seconds</span><br><span class=\"cm\">      </span><br><span class=\"s\">67   ods html5 close;ods listing;</span><br><br><span class=\"s\">68   </span><br></pre></div>\n",
       "</body>\n",
       "</html>\n"
      ],
      "text/plain": [
       "<IPython.core.display.HTML object>"
      ]
     },
     "execution_count": 2,
     "metadata": {},
     "output_type": "execute_result"
    }
   ],
   "source": [
    "proc export data=sashelp.class outfile='/folders/myfolders/Class.csv' DBMS=CSV replace; \n",
    "run;"
   ]
  },
  {
   "cell_type": "markdown",
   "metadata": {},
   "source": [
    "\n",
    "##Sample on how to import file.\n"
   ]
  },
  {
   "cell_type": "code",
   "execution_count": 3,
   "metadata": {
    "collapsed": false
   },
   "outputs": [
    {
     "data": {
      "text/html": [
       "<!DOCTYPE html PUBLIC \"-//W3C//DTD HTML 4.01//EN\"\n",
       "   \"http://www.w3.org/TR/html4/strict.dtd\">\n",
       "\n",
       "<html>\n",
       "<head>\n",
       "  <title></title>\n",
       "  <meta http-equiv=\"content-type\" content=\"text/html; charset=None\">\n",
       "  <style type=\"text/css\">\n",
       "td.linenos { background-color: #f0f0f0; padding-right: 10px; }\n",
       "span.lineno { background-color: #f0f0f0; padding: 0 5px 0 5px; }\n",
       "pre { line-height: 125%; }\n",
       "body .hll { background-color: #ffffcc }\n",
       "body  { background: #ffffff; }\n",
       "body .c { color: #0000FF } /* Comment */\n",
       "body .k { color: #ff0000; font-weight: bold } /* Keyword */\n",
       "body .n { color: #008000 } /* Name */\n",
       "body .ch { color: #0000FF } /* Comment.Hashbang */\n",
       "body .cm { color: #0000FF } /* Comment.Multiline */\n",
       "body .cp { color: #0000FF } /* Comment.Preproc */\n",
       "body .cpf { color: #0000FF } /* Comment.PreprocFile */\n",
       "body .c1 { color: #0000FF } /* Comment.Single */\n",
       "body .cs { color: #0000FF } /* Comment.Special */\n",
       "body .kc { color: #ff0000; font-weight: bold } /* Keyword.Constant */\n",
       "body .kd { color: #ff0000; font-weight: bold } /* Keyword.Declaration */\n",
       "body .kn { color: #ff0000; font-weight: bold } /* Keyword.Namespace */\n",
       "body .kp { color: #ff0000; font-weight: bold } /* Keyword.Pseudo */\n",
       "body .kr { color: #ff0000; font-weight: bold } /* Keyword.Reserved */\n",
       "body .kt { color: #ff0000; font-weight: bold } /* Keyword.Type */\n",
       "body .s { color: #111111 } /* Literal.String */\n",
       "body .na { color: #008000 } /* Name.Attribute */\n",
       "body .nb { color: #008000 } /* Name.Builtin */\n",
       "body .nc { color: #008000 } /* Name.Class */\n",
       "body .no { color: #008000 } /* Name.Constant */\n",
       "body .nd { color: #008000 } /* Name.Decorator */\n",
       "body .ni { color: #008000 } /* Name.Entity */\n",
       "body .ne { color: #008000 } /* Name.Exception */\n",
       "body .nf { color: #008000 } /* Name.Function */\n",
       "body .nl { color: #008000 } /* Name.Label */\n",
       "body .nn { color: #008000 } /* Name.Namespace */\n",
       "body .nx { color: #008000 } /* Name.Other */\n",
       "body .py { color: #008000 } /* Name.Property */\n",
       "body .nt { color: #008000 } /* Name.Tag */\n",
       "body .nv { color: #008000 } /* Name.Variable */\n",
       "body .sb { color: #111111 } /* Literal.String.Backtick */\n",
       "body .sc { color: #111111 } /* Literal.String.Char */\n",
       "body .sd { color: #111111 } /* Literal.String.Doc */\n",
       "body .s2 { color: #111111 } /* Literal.String.Double */\n",
       "body .se { color: #111111 } /* Literal.String.Escape */\n",
       "body .sh { color: #111111 } /* Literal.String.Heredoc */\n",
       "body .si { color: #111111 } /* Literal.String.Interpol */\n",
       "body .sx { color: #111111 } /* Literal.String.Other */\n",
       "body .sr { color: #111111 } /* Literal.String.Regex */\n",
       "body .s1 { color: #111111 } /* Literal.String.Single */\n",
       "body .ss { color: #111111 } /* Literal.String.Symbol */\n",
       "body .bp { color: #008000 } /* Name.Builtin.Pseudo */\n",
       "body .vc { color: #008000 } /* Name.Variable.Class */\n",
       "body .vg { color: #008000 } /* Name.Variable.Global */\n",
       "body .vi { color: #008000 } /* Name.Variable.Instance */\n",
       "\n",
       "  </style>\n",
       "</head>\n",
       "<body>\n",
       "<h2></h2>\n",
       "\n",
       "<div class=\"highlight\"><pre><span></span><span class=\"s\">70   ods listing close;ods html5 file=stdout options(bitmap_mode=&#39;inline&#39;) device=png; ods graphics on / outputfmt=png;</span><br><span class=\"cm\">NOTE: Writing HTML5 Body file: STDOUT</span><br><span class=\"s\">71   </span><br><span class=\"s\">72   proc import out=class datafile=&#39;/folders/myfolders/Class.csv&#39; DBMS=CSV replace;</span><br><span class=\"s\">73   getnames=yes;</span><br><span class=\"s\">74   run;</span><br><span class=\"s\">75    /**********************************************************************</span><br><span class=\"s\">76    *   PRODUCT:   SAS</span><br><span class=\"s\">77    *   VERSION:   9.4</span><br><span class=\"s\">78    *   CREATOR:   External File Interface</span><br><span class=\"s\">79    *   DATE:      20AUG16</span><br><span class=\"s\">80    *   DESC:      Generated SAS Datastep Code</span><br><span class=\"s\">81    *   TEMPLATE SOURCE:  (None Specified.)</span><br><span class=\"s\">82    ***********************************************************************/</span><br><span class=\"s\">83       data WORK.CLASS    ;</span><br><span class=\"s\">84       %let _EFIERR_ = 0; /* set the ERROR detection macro variable */</span><br><span class=\"s\">85       infile &#39;/folders/myfolders/Class.csv&#39; delimiter = &#39;,&#39; MISSOVER DSD lrecl=32767 firstobs=2 ;</span><br><span class=\"s\">86          informat Name $7. ;</span><br><span class=\"s\">87          informat Sex $1. ;</span><br><span class=\"s\">88          informat Age best32. ;</span><br><span class=\"s\">89          informat Height best32. ;</span><br><span class=\"s\">90          informat Weight best32. ;</span><br><span class=\"s\">91          format Name $7. ;</span><br><span class=\"s\">92          format Sex $1. ;</span><br><span class=\"s\">93          format Age best12. ;</span><br><span class=\"s\">94          format Height best12. ;</span><br><span class=\"s\">95          format Weight best12. ;</span><br><span class=\"s\">96       input</span><br><span class=\"s\">97                   Name $</span><br><span class=\"s\">98                   Sex $</span><br><span class=\"s\">99                   Age</span><br><span class=\"s\">100                  Height</span><br><span class=\"s\">101                  Weight</span><br><span class=\"s\">102      ;</span><br><span class=\"s\">103      if _ERROR_ then call symputx(&#39;_EFIERR_&#39;,1);  /* set ERROR detection macro variable */</span><br><span class=\"s\">104      run;</span><br><span class=\"cm\">NOTE: The infile &#39;/folders/myfolders/Class.csv&#39; is:</span><br><span class=\"cm\">      Filename=/folders/myfolders/Class.csv,</span><br><span class=\"cm\">      Owner Name=UNKNOWN,Group Name=games,</span><br><span class=\"cm\">      Access Permission=-rw-r--r--,</span><br><span class=\"cm\">      Last Modified=20Aug2016:22:27:15,</span><br><span class=\"cm\">      File Size (bytes)=411</span><br><br><span class=\"cm\">NOTE: 19 records were read from the infile &#39;/folders/myfolders/Class.csv&#39;.</span><br><span class=\"cm\">      The minimum record length was 17.</span><br><span class=\"cm\">      The maximum record length was 21.</span><br><span class=\"cm\">NOTE: The data set WORK.CLASS has 19 observations and 5 variables.</span><br><span class=\"cm\">NOTE: DATA statement used (Total process time):</span><br><span class=\"cm\">      real time           0.00 seconds</span><br><span class=\"cm\">      cpu time            0.00 seconds</span><br><span class=\"cm\">      </span><br><span class=\"s\">19 rows created in WORK.CLASS from /folders/myfolders/Class.csv.</span><br><span class=\"s\">  </span><br><span class=\"s\">  </span><br><span class=\"s\">  </span><br><span class=\"cm\">NOTE: WORK.CLASS data set was successfully created.</span><br><span class=\"cm\">NOTE: The data set WORK.CLASS has 19 observations and 5 variables.</span><br><span class=\"cm\">NOTE: PROCEDURE IMPORT used (Total process time):</span><br><span class=\"cm\">      real time           0.03 seconds</span><br><span class=\"cm\">      cpu time            0.03 seconds</span><br><span class=\"cm\">      </span><br><span class=\"s\">105  ods html5 close;ods listing;</span><br><br><span class=\"s\">106  </span><br></pre></div>\n",
       "</body>\n",
       "</html>\n"
      ],
      "text/plain": [
       "<IPython.core.display.HTML object>"
      ]
     },
     "execution_count": 3,
     "metadata": {},
     "output_type": "execute_result"
    }
   ],
   "source": [
    "proc import out=class datafile='/folders/myfolders/Class.csv' DBMS=CSV replace; \n",
    "getnames=yes;\n",
    "run;"
   ]
  },
  {
   "cell_type": "markdown",
   "metadata": {},
   "source": [
    "## How to set up a SAS library"
   ]
  },
  {
   "cell_type": "code",
   "execution_count": 4,
   "metadata": {
    "collapsed": false
   },
   "outputs": [
    {
     "data": {
      "text/html": [
       "<!DOCTYPE html PUBLIC \"-//W3C//DTD HTML 4.01//EN\"\n",
       "   \"http://www.w3.org/TR/html4/strict.dtd\">\n",
       "\n",
       "<html>\n",
       "<head>\n",
       "  <title></title>\n",
       "  <meta http-equiv=\"content-type\" content=\"text/html; charset=None\">\n",
       "  <style type=\"text/css\">\n",
       "td.linenos { background-color: #f0f0f0; padding-right: 10px; }\n",
       "span.lineno { background-color: #f0f0f0; padding: 0 5px 0 5px; }\n",
       "pre { line-height: 125%; }\n",
       "body .hll { background-color: #ffffcc }\n",
       "body  { background: #ffffff; }\n",
       "body .c { color: #0000FF } /* Comment */\n",
       "body .k { color: #ff0000; font-weight: bold } /* Keyword */\n",
       "body .n { color: #008000 } /* Name */\n",
       "body .ch { color: #0000FF } /* Comment.Hashbang */\n",
       "body .cm { color: #0000FF } /* Comment.Multiline */\n",
       "body .cp { color: #0000FF } /* Comment.Preproc */\n",
       "body .cpf { color: #0000FF } /* Comment.PreprocFile */\n",
       "body .c1 { color: #0000FF } /* Comment.Single */\n",
       "body .cs { color: #0000FF } /* Comment.Special */\n",
       "body .kc { color: #ff0000; font-weight: bold } /* Keyword.Constant */\n",
       "body .kd { color: #ff0000; font-weight: bold } /* Keyword.Declaration */\n",
       "body .kn { color: #ff0000; font-weight: bold } /* Keyword.Namespace */\n",
       "body .kp { color: #ff0000; font-weight: bold } /* Keyword.Pseudo */\n",
       "body .kr { color: #ff0000; font-weight: bold } /* Keyword.Reserved */\n",
       "body .kt { color: #ff0000; font-weight: bold } /* Keyword.Type */\n",
       "body .s { color: #111111 } /* Literal.String */\n",
       "body .na { color: #008000 } /* Name.Attribute */\n",
       "body .nb { color: #008000 } /* Name.Builtin */\n",
       "body .nc { color: #008000 } /* Name.Class */\n",
       "body .no { color: #008000 } /* Name.Constant */\n",
       "body .nd { color: #008000 } /* Name.Decorator */\n",
       "body .ni { color: #008000 } /* Name.Entity */\n",
       "body .ne { color: #008000 } /* Name.Exception */\n",
       "body .nf { color: #008000 } /* Name.Function */\n",
       "body .nl { color: #008000 } /* Name.Label */\n",
       "body .nn { color: #008000 } /* Name.Namespace */\n",
       "body .nx { color: #008000 } /* Name.Other */\n",
       "body .py { color: #008000 } /* Name.Property */\n",
       "body .nt { color: #008000 } /* Name.Tag */\n",
       "body .nv { color: #008000 } /* Name.Variable */\n",
       "body .sb { color: #111111 } /* Literal.String.Backtick */\n",
       "body .sc { color: #111111 } /* Literal.String.Char */\n",
       "body .sd { color: #111111 } /* Literal.String.Doc */\n",
       "body .s2 { color: #111111 } /* Literal.String.Double */\n",
       "body .se { color: #111111 } /* Literal.String.Escape */\n",
       "body .sh { color: #111111 } /* Literal.String.Heredoc */\n",
       "body .si { color: #111111 } /* Literal.String.Interpol */\n",
       "body .sx { color: #111111 } /* Literal.String.Other */\n",
       "body .sr { color: #111111 } /* Literal.String.Regex */\n",
       "body .s1 { color: #111111 } /* Literal.String.Single */\n",
       "body .ss { color: #111111 } /* Literal.String.Symbol */\n",
       "body .bp { color: #008000 } /* Name.Builtin.Pseudo */\n",
       "body .vc { color: #008000 } /* Name.Variable.Class */\n",
       "body .vg { color: #008000 } /* Name.Variable.Global */\n",
       "body .vi { color: #008000 } /* Name.Variable.Instance */\n",
       "\n",
       "  </style>\n",
       "</head>\n",
       "<body>\n",
       "<h2></h2>\n",
       "\n",
       "<div class=\"highlight\"><pre><span></span><span class=\"s\">108  ods listing close;ods html5 file=stdout options(bitmap_mode=&#39;inline&#39;) device=png; ods graphics on / outputfmt=png;</span><br><span class=\"cm\">NOTE: Writing HTML5 Body file: STDOUT</span><br><span class=\"s\">109  </span><br><span class=\"s\">110  libname mylib &#39;/folders/myfolders/&#39;;</span><br><span class=\"cm\">NOTE: Libref MYLIB was successfully assigned as follows: </span><br><span class=\"cm\">      Engine:        V9 </span><br><span class=\"cm\">      Physical Name: /folders/myfolders</span><br><span class=\"s\">111  ods html5 close;ods listing;</span><br><br><span class=\"s\">112  </span><br></pre></div>\n",
       "</body>\n",
       "</html>\n"
      ],
      "text/plain": [
       "<IPython.core.display.HTML object>"
      ]
     },
     "execution_count": 4,
     "metadata": {},
     "output_type": "execute_result"
    }
   ],
   "source": [
    "libname mylib '/folders/myfolders/';"
   ]
  },
  {
   "cell_type": "markdown",
   "metadata": {},
   "source": [
    "## How to save a permanent copy of a dataset and create a new variable.\n",
    "### This creates a dataset called class_permanent in the mylib library. \n",
    "### To verify this, navigate to your shared folder on your desktop and look for the sas7bdat file created."
   ]
  },
  {
   "cell_type": "code",
   "execution_count": 5,
   "metadata": {
    "collapsed": false
   },
   "outputs": [
    {
     "data": {
      "text/html": [
       "<!DOCTYPE html PUBLIC \"-//W3C//DTD HTML 4.01//EN\"\n",
       "   \"http://www.w3.org/TR/html4/strict.dtd\">\n",
       "\n",
       "<html>\n",
       "<head>\n",
       "  <title></title>\n",
       "  <meta http-equiv=\"content-type\" content=\"text/html; charset=None\">\n",
       "  <style type=\"text/css\">\n",
       "td.linenos { background-color: #f0f0f0; padding-right: 10px; }\n",
       "span.lineno { background-color: #f0f0f0; padding: 0 5px 0 5px; }\n",
       "pre { line-height: 125%; }\n",
       "body .hll { background-color: #ffffcc }\n",
       "body  { background: #ffffff; }\n",
       "body .c { color: #0000FF } /* Comment */\n",
       "body .k { color: #ff0000; font-weight: bold } /* Keyword */\n",
       "body .n { color: #008000 } /* Name */\n",
       "body .ch { color: #0000FF } /* Comment.Hashbang */\n",
       "body .cm { color: #0000FF } /* Comment.Multiline */\n",
       "body .cp { color: #0000FF } /* Comment.Preproc */\n",
       "body .cpf { color: #0000FF } /* Comment.PreprocFile */\n",
       "body .c1 { color: #0000FF } /* Comment.Single */\n",
       "body .cs { color: #0000FF } /* Comment.Special */\n",
       "body .kc { color: #ff0000; font-weight: bold } /* Keyword.Constant */\n",
       "body .kd { color: #ff0000; font-weight: bold } /* Keyword.Declaration */\n",
       "body .kn { color: #ff0000; font-weight: bold } /* Keyword.Namespace */\n",
       "body .kp { color: #ff0000; font-weight: bold } /* Keyword.Pseudo */\n",
       "body .kr { color: #ff0000; font-weight: bold } /* Keyword.Reserved */\n",
       "body .kt { color: #ff0000; font-weight: bold } /* Keyword.Type */\n",
       "body .s { color: #111111 } /* Literal.String */\n",
       "body .na { color: #008000 } /* Name.Attribute */\n",
       "body .nb { color: #008000 } /* Name.Builtin */\n",
       "body .nc { color: #008000 } /* Name.Class */\n",
       "body .no { color: #008000 } /* Name.Constant */\n",
       "body .nd { color: #008000 } /* Name.Decorator */\n",
       "body .ni { color: #008000 } /* Name.Entity */\n",
       "body .ne { color: #008000 } /* Name.Exception */\n",
       "body .nf { color: #008000 } /* Name.Function */\n",
       "body .nl { color: #008000 } /* Name.Label */\n",
       "body .nn { color: #008000 } /* Name.Namespace */\n",
       "body .nx { color: #008000 } /* Name.Other */\n",
       "body .py { color: #008000 } /* Name.Property */\n",
       "body .nt { color: #008000 } /* Name.Tag */\n",
       "body .nv { color: #008000 } /* Name.Variable */\n",
       "body .sb { color: #111111 } /* Literal.String.Backtick */\n",
       "body .sc { color: #111111 } /* Literal.String.Char */\n",
       "body .sd { color: #111111 } /* Literal.String.Doc */\n",
       "body .s2 { color: #111111 } /* Literal.String.Double */\n",
       "body .se { color: #111111 } /* Literal.String.Escape */\n",
       "body .sh { color: #111111 } /* Literal.String.Heredoc */\n",
       "body .si { color: #111111 } /* Literal.String.Interpol */\n",
       "body .sx { color: #111111 } /* Literal.String.Other */\n",
       "body .sr { color: #111111 } /* Literal.String.Regex */\n",
       "body .s1 { color: #111111 } /* Literal.String.Single */\n",
       "body .ss { color: #111111 } /* Literal.String.Symbol */\n",
       "body .bp { color: #008000 } /* Name.Builtin.Pseudo */\n",
       "body .vc { color: #008000 } /* Name.Variable.Class */\n",
       "body .vg { color: #008000 } /* Name.Variable.Global */\n",
       "body .vi { color: #008000 } /* Name.Variable.Instance */\n",
       "\n",
       "  </style>\n",
       "</head>\n",
       "<body>\n",
       "<h2></h2>\n",
       "\n",
       "<div class=\"highlight\"><pre><span></span><span class=\"s\">114  ods listing close;ods html5 file=stdout options(bitmap_mode=&#39;inline&#39;) device=png; ods graphics on / outputfmt=png;</span><br><span class=\"cm\">NOTE: Writing HTML5 Body file: STDOUT</span><br><span class=\"s\">115  </span><br><span class=\"s\">116  data mylib.Class_Permanent;</span><br><span class=\"s\">117  set class; *dataset previously created;</span><br><span class=\"s\">118  </span><br><span class=\"s\">119  if age &lt; 13 then age_group = &#39;Pre-Teen&#39;;</span><br><span class=\"s\">120  else if age &gt;= 13 then age_group = &#39;Teen&#39;;</span><br><span class=\"s\">121  </span><br><span class=\"s\">122  run;</span><br><span class=\"cm\">NOTE: There were 19 observations read from the data set WORK.CLASS.</span><br><span class=\"cm\">NOTE: The data set MYLIB.CLASS_PERMANENT has 19 observations and 6 variables.</span><br><span class=\"cm\">NOTE: DATA statement used (Total process time):</span><br><span class=\"cm\">      real time           0.01 seconds</span><br><span class=\"cm\">      cpu time            0.01 seconds</span><br><span class=\"cm\">      </span><br><span class=\"s\">123  ods html5 close;ods listing;</span><br><br><span class=\"s\">124  </span><br></pre></div>\n",
       "</body>\n",
       "</html>\n"
      ],
      "text/plain": [
       "<IPython.core.display.HTML object>"
      ]
     },
     "execution_count": 5,
     "metadata": {},
     "output_type": "execute_result"
    }
   ],
   "source": [
    "data mylib.Class_Permanent;\n",
    "set class; *dataset previously created;\n",
    "\n",
    "if age < 13 then age_group = 'Pre-Teen';\n",
    "else if age >= 13 then age_group = 'Teen';\n",
    "\n",
    "run;"
   ]
  },
  {
   "cell_type": "code",
   "execution_count": null,
   "metadata": {
    "collapsed": true
   },
   "outputs": [],
   "source": []
  }
 ],
 "metadata": {
  "kernelspec": {
   "display_name": "SAS",
   "language": "sas",
   "name": "sas"
  },
  "language_info": {
   "codemirror_mode": "sas",
   "file_extension": ".sas",
   "mimetype": "text/x-sas",
   "name": "sas"
  }
 },
 "nbformat": 4,
 "nbformat_minor": 0
}
